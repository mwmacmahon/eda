{
 "cells": [
  {
   "cell_type": "markdown",
   "metadata": {
    "collapsed": true
   },
   "source": [
    "# Data Processing - Overlap Scans"
   ]
  },
  {
   "cell_type": "markdown",
   "metadata": {},
   "source": [
    "## Notes on this notebook"
   ]
  },
  {
   "cell_type": "code",
   "execution_count": 1,
   "metadata": {
    "collapsed": true
   },
   "outputs": [],
   "source": [
    "# run using dev install of EDA:\n",
    "# github.com/vsihlab/eda\n",
    "# commit ID: [TODO, downstream from v0.1.1]"
   ]
  },
  {
   "cell_type": "markdown",
   "metadata": {},
   "source": [
    "## Imports and global variables"
   ]
  },
  {
   "cell_type": "code",
   "execution_count": 2,
   "metadata": {
    "collapsed": true
   },
   "outputs": [],
   "source": [
    "# General imports\n",
    "import json\n",
    "import pickle\n",
    "\n",
    "from IPython.display import display\n",
    "from lmfit import report_fit\n",
    "%matplotlib inline\n",
    "import matplotlib.pyplot as plt\n",
    "import numpy as np\n",
    "import pandas as pd\n",
    "\n",
    "import eda.analysis.dataframe_plotting as dfplot\n",
    "import eda.data_io.csv_to_dataframe as csv2df"
   ]
  },
  {
   "cell_type": "code",
   "execution_count": 3,
   "metadata": {
    "collapsed": true
   },
   "outputs": [],
   "source": [
    "# GLOBAL UNITS: \n",
    "# time: ps\n",
    "# b-field: mT\n",
    "# voltages: V\n",
    "\n",
    "# FIGURE DIMENSIONS FOR PRIVATE USE VS REPO:\n",
    "# FIG_SIZE_MULT = 4  # normal use\n",
    "FIG_SIZE_MULT = 2.5  # smaller version for repo notebooks\n",
    "\n",
    "FONT_SCALE = FIG_SIZE_MULT / 2.5"
   ]
  },
  {
   "cell_type": "code",
   "execution_count": 4,
   "metadata": {
    "collapsed": true
   },
   "outputs": [],
   "source": [
    "# Optional: import jtplot to make figures match jupyterthemes config\n",
    "import importlib\n",
    "jtplot_found = importlib.util.find_spec(\"jupyterthemes.jtplot\") is not None\n",
    "if jtplot_found:\n",
    "    from jupyterthemes import jtplot\n",
    "    # - currently installed theme will be used to\n",
    "    jtplot.style(ticks=False, grid=False, fscale=FONT_SCALE)\n",
    "    # set the default figure size\n",
    "    jtplot.figsize(x=FIG_SIZE_MULT * 2.5, y=FIG_SIZE_MULT * 2.5)\n",
    "    # needed to avoid spurious error messages with imshow...\n",
    "    import warnings\n",
    "    warnings.filterwarnings(\"ignore\", category=UserWarning, module=\"matplotlib\")"
   ]
  },
  {
   "cell_type": "markdown",
   "metadata": {
    "collapsed": true
   },
   "source": [
    "## Load data"
   ]
  },
  {
   "cell_type": "code",
   "execution_count": 5,
   "metadata": {
    "collapsed": true
   },
   "outputs": [],
   "source": [
    "load_option = 'b'"
   ]
  },
  {
   "cell_type": "markdown",
   "metadata": {},
   "source": [
    "### Option A: Load already-processed data"
   ]
  },
  {
   "cell_type": "code",
   "execution_count": 6,
   "metadata": {
    "collapsed": true
   },
   "outputs": [],
   "source": [
    "if load_option == 'a':\n",
    "    # REQUIRED: actual coordinate scanned in data\n",
    "    scan_coordinate_column = \"Mirror Position (um)\"\n",
    "\n",
    "    # REQUIRED: input filepaths\n",
    "    input_dataframe_filepath = \"./processed_dataframe.csv\"\n",
    "    input_metadata_list_filepath = \"./processed_metadata_list.json\"\n",
    "\n",
    "    with open(input_dataframe_filepath, 'r') as f:\n",
    "        full_dataframe = pd.read_csv(f, sep='\\t',\n",
    "                                     index_col=[0, 1, 2])\n",
    "    with open(input_metadata_list_filepath, 'r') as f:\n",
    "        file_metadata_list = json.load(f)\n",
    "\n",
    "    # plot newly created dataframe and show the first few rows\n",
    "    figure_size = (FIG_SIZE_MULT * 3, FIG_SIZE_MULT * 1.5)\n",
    "    num_waterfall_plots = 4\n",
    "    data_column = 'kerr_rotation'\n",
    "    x_values_column = 'probe_delay'\n",
    "    y_values_column = None\n",
    "    xlabel = 'Pump-Probe Delay (ps)'\n",
    "    ylabel = None\n",
    "    imshow_kwargs = {'aspect': 1.0,\n",
    "                     'origin': 'upper'}\n",
    "    plt.figure(figsize=figure_size)\n",
    "    ax1 = plt.subplot(1,2,1)\n",
    "    ax2 = plt.subplot(1,2,2)\n",
    "    dfplot.plot_dataframe_colorplot(full_dataframe, data_column,\n",
    "                                    x_values_column, y_values_column,\n",
    "                                    xlabel=xlabel, ylabel=ylabel,\n",
    "                                    ax=ax1, **imshow_kwargs)\n",
    "    dfplot.plot_dataframe_waterfall(full_dataframe, data_column,\n",
    "                                    num_waterfall_plots,\n",
    "                                    x_values_column, y_values_column,\n",
    "                                    xlabel=xlabel, ylabel=None, ax=ax2)\n",
    "    ax2.yaxis.set_ticklabels([])\n",
    "    plt.show()\n",
    "    display(full_dataframe.head(5))"
   ]
  },
  {
   "cell_type": "markdown",
   "metadata": {},
   "source": [
    "### Option B: Load and process raw data"
   ]
  },
  {
   "cell_type": "code",
   "execution_count": 7,
   "metadata": {},
   "outputs": [
    {
     "data": {
      "image/png": "[encoded data removed]",
      "text/plain": [
       "<matplotlib.figure.Figure at 0x17face639b0>"
      ]
     },
     "metadata": {},
     "output_type": "display_data"
    },
    {
     "data": {
      "text/html": [
       "<div>\n",
       "<style>\n",
       "    .dataframe thead tr:only-child th {\n",
       "        text-align: right;\n",
       "    }\n",
       "\n",
       "    .dataframe thead th {\n",
       "        text-align: left;\n",
       "    }\n",
       "\n",
       "    .dataframe tbody tr th {\n",
       "        vertical-align: top;\n",
       "    }\n",
       "</style>\n",
       "<table border=\"1\" class=\"dataframe\">\n",
       "  <thead>\n",
       "    <tr style=\"text-align: right;\">\n",
       "      <th></th>\n",
       "      <th></th>\n",
       "      <th></th>\n",
       "      <th>mirror_pos</th>\n",
       "      <th>lockin1</th>\n",
       "      <th>kerr_rotation</th>\n",
       "      <th>file_index</th>\n",
       "      <th>probe_delay</th>\n",
       "      <th>wavelength</th>\n",
       "    </tr>\n",
       "    <tr>\n",
       "      <th>run_id</th>\n",
       "      <th>index_2d</th>\n",
       "      <th>index_1d</th>\n",
       "      <th></th>\n",
       "      <th></th>\n",
       "      <th></th>\n",
       "      <th></th>\n",
       "      <th></th>\n",
       "      <th></th>\n",
       "    </tr>\n",
       "  </thead>\n",
       "  <tbody>\n",
       "    <tr>\n",
       "      <th rowspan=\"5\" valign=\"top\">0</th>\n",
       "      <th rowspan=\"5\" valign=\"top\">11.0</th>\n",
       "      <th>0</th>\n",
       "      <td>-200.0</td>\n",
       "      <td>0.001661</td>\n",
       "      <td>0.00574</td>\n",
       "      <td>0</td>\n",
       "      <td>100.0</td>\n",
       "      <td>836.0</td>\n",
       "    </tr>\n",
       "    <tr>\n",
       "      <th>1</th>\n",
       "      <td>-195.0</td>\n",
       "      <td>0.001721</td>\n",
       "      <td>0.00530</td>\n",
       "      <td>0</td>\n",
       "      <td>100.0</td>\n",
       "      <td>836.0</td>\n",
       "    </tr>\n",
       "    <tr>\n",
       "      <th>2</th>\n",
       "      <td>-190.0</td>\n",
       "      <td>0.001697</td>\n",
       "      <td>0.00582</td>\n",
       "      <td>0</td>\n",
       "      <td>100.0</td>\n",
       "      <td>836.0</td>\n",
       "    </tr>\n",
       "    <tr>\n",
       "      <th>3</th>\n",
       "      <td>-185.0</td>\n",
       "      <td>0.001571</td>\n",
       "      <td>0.00600</td>\n",
       "      <td>0</td>\n",
       "      <td>100.0</td>\n",
       "      <td>836.0</td>\n",
       "    </tr>\n",
       "    <tr>\n",
       "      <th>4</th>\n",
       "      <td>-180.0</td>\n",
       "      <td>0.001674</td>\n",
       "      <td>0.00658</td>\n",
       "      <td>0</td>\n",
       "      <td>100.0</td>\n",
       "      <td>836.0</td>\n",
       "    </tr>\n",
       "  </tbody>\n",
       "</table>\n",
       "</div>"
      ],
      "text/plain": [
       "                          mirror_pos   lockin1  kerr_rotation  file_index  \\\n",
       "run_id index_2d index_1d                                                    \n",
       "0      11.0     0             -200.0  0.001661        0.00574           0   \n",
       "                1             -195.0  0.001721        0.00530           0   \n",
       "                2             -190.0  0.001697        0.00582           0   \n",
       "                3             -185.0  0.001571        0.00600           0   \n",
       "                4             -180.0  0.001674        0.00658           0   \n",
       "\n",
       "                          probe_delay  wavelength  \n",
       "run_id index_2d index_1d                           \n",
       "0      11.0     0               100.0       836.0  \n",
       "                1               100.0       836.0  \n",
       "                2               100.0       836.0  \n",
       "                3               100.0       836.0  \n",
       "                4               100.0       836.0  "
      ]
     },
     "metadata": {},
     "output_type": "display_data"
    }
   ],
   "source": [
    "if load_option == 'b':\n",
    "    # REQUIRED: columns & labels used to plot data.\n",
    "    # may be present in the raw data or defined somewhere\n",
    "    # below. If column is renamed below, this variable\n",
    "    # will also be updated to reflect the new name.\n",
    "    scan_coordinate_column = \"Mirror Position (um)\"\n",
    "    measured_value_column = \"kerr_rotation\"\n",
    "    scan_coordinate_label = \"Mirror Position (um)\"\n",
    "\n",
    "    # REQUIRED: output filenames\n",
    "    output_dataframe_filename = \"processed_dataframe.csv\"\n",
    "    output_metadata_list_filename = \"processed_metadata_list.json\"\n",
    "    output_image_filename = \"processed_dataframe_plot.png\"\n",
    "\n",
    "    # REQUIRED: data directory\n",
    "    parent_dir = ('.')\n",
    "\n",
    "    # REQUIRED: data storage format information\n",
    "    delimiter = '\\t'\n",
    "    trailing_delimiters = True  # rows end in delimiters\n",
    "    num_headerlines = 0\n",
    "    column_names_row = 1  # NOT counting skipped lines from num_headerlines\n",
    "    overwriting_column_names = []\n",
    "\n",
    "    if not overwriting_column_names:\n",
    "        overwriting_column_names = None\n",
    "    pandas_read_csv_kwargs = {\n",
    "         'skiprows': num_headerlines,\n",
    "         'header': column_names_row,\n",
    "         'names': overwriting_column_names,\n",
    "         'delimiter': delimiter,\n",
    "    }\n",
    "    if trailing_delimiters:  # needed to avoid problems\n",
    "        pandas_read_csv_kwargs['index_col'] = False\n",
    "\n",
    "    # REQUIRED: filename key for data files, will load only these\n",
    "    filename_key = '.dat'\n",
    "\n",
    "    # REQUIRED: criteria for grouping runs\n",
    "    run_criteria = 'directory'\n",
    "\n",
    "    # OPTIONAL: filepath parsing rules\n",
    "    # DEFAULT SEARCH TERMS AND SEARCH RULES:\n",
    "    # 1. If first string found, register second string as\n",
    "    #    tag containing third string/value\n",
    "    #        e.g. if keyword_list contains (\"warmup\", \"Warmup?\", \"Yes\"):\n",
    "    #             \"...warmup...\" -> {\"Warmup?\": \"Yes\"}\n",
    "    this_element_keyword_list = [\n",
    "        (       \"CISP\", \"Experiment Type\", \"CISP\"       ),\n",
    "        ( \"Delay_Scan\", \"Experiment Type\", \"Delay_Scan\" ),\n",
    "        ( \"Field_Scan\", \"Experiment Type\", \"Field_Scan\" ),\n",
    "        (\"Mirror_Scan\", \"Experiment Type\", \"Mirror_Scan\"),\n",
    "        ( \"RMBE1130-K\", \"Sample ID\", \"RMBE1130-K\"),\n",
    "        (\"[1-10]Horiz\", \"Sample Orientation\", \"[1-10]Horiz\"),\n",
    "    ]\n",
    "    # 2. Grab next element(s) if this one CONTAINS first string,\n",
    "    #    tag next element(s) as second string(s)\n",
    "    #        e.g. \"..._Ind_3_...\" -> {\"FastScanIndex\": 3}\n",
    "    #        e.g. \"..._2Dscan_MirrorY_MirrorZ_...\"\n",
    "    #                 -> {\"SecondScanType\": \"MirrorY\",\n",
    "    #                     \"FirstScanType\": \"MirrorZ\"}\n",
    "    next_element_keyword_list = []\n",
    "    # 3. Grab this element if it CONTAINS first string,\n",
    "    #    tag remainder as second string\n",
    "    #        e.g. \"..._30K_...\" -> {\"SetTemperature\": 30}\n",
    "    in_this_element_keyword_list = [\n",
    "        (\"FIELD\", \"Date_and_Scan_2D_Index\"),\n",
    "        (\"DLAY\", \"Date_and_Scan_2D_Index\"),\n",
    "        (\"STPR\", \"Date_and_Scan_2D_Index\"),\n",
    "        (\"phi-\", \"Electric Field Angle\"),\n",
    "        (\"T\", \"Magnetic Field (T)\"),\n",
    "        (\"K\", \"Set Temperature (K)\"),\n",
    "        (\"nm\", \"Wavelength (nm)\"),\n",
    "        (\"ps\", \"Delay Time (ps)\"),\n",
    "        (\"V\", \"Voltage (V)\"),\n",
    "    ]\n",
    "    parsing_keyword_lists = [this_element_keyword_list,\n",
    "                             next_element_keyword_list,\n",
    "                             in_this_element_keyword_list]\n",
    "\n",
    "    # OPTIONAL: metadata processing functions,\n",
    "    # must accept dict and modify in-place\n",
    "    def derive_metadata_from_scan_type_tag(metadata_dict):\n",
    "        if 'Date_and_Scan_2D_Index' in metadata_dict.keys():\n",
    "            date_and_index = str(metadata_dict['Date_and_Scan_2D_Index'])\n",
    "            metadata_dict['Date'] = date_and_index[:6]\n",
    "            metadata_dict['Scan_2D_Index'] = float(date_and_index[6:]) - 1\n",
    "            del metadata_dict['Date_and_Scan_2D_Index']\n",
    "    def consolidate_aliases_for_bfield(metadata_dict):\n",
    "        if 'Magnetic Field (T)' in metadata_dict.keys():\n",
    "            metadata_dict['Magnetic Field (mT)'] = \\\n",
    "                1000.0 * metadata_dict['Magnetic Field (T)']\n",
    "            del metadata_dict['Magnetic Field (T)']\n",
    "    metadata_processing_fcns = [derive_metadata_from_scan_type_tag,\n",
    "                                consolidate_aliases_for_bfield]\n",
    "\n",
    "    # OPTIONAL: metadata-based filtering fcns, type: dict() -> bool\n",
    "    # fcns returning False if data should be ignored\n",
    "    metadata_filter_fcns = [\n",
    "        lambda metadata_dict: \\\n",
    "            \"alignment\" not in metadata_dict.get(\"Filepath\"),\n",
    "    #     lambda metadata_dict: \\\n",
    "    #         metadata_dict.get(\"# repeats\", 1) <= 2,\n",
    "        lambda metadata_dict: \\\n",
    "            \"Scan_2D_Index\" in metadata_dict.keys(),\n",
    "    ]\n",
    "\n",
    "    # OPTIONAL: metadata tags to be converted to dataframe columns.\n",
    "    # Elements should be of form ('metadata tag', 'column name')\n",
    "    metadata_tag_to_column_list = [\n",
    "        (              'Run ID', 'run_id'),\n",
    "        (       'Scan_2D_Index', 'index_2d'),\n",
    "        (     'Delay Time (ps)', 'probe_delay'),\n",
    "        ('Mirror Position (um)', 'mirror_pos'),\n",
    "        ( 'Magnetic Field (mT)', 'b_external'),\n",
    "        (     'Wavelength (nm)', 'wavelength'),\n",
    "        (         'Voltage (V)', 'voltage'),\n",
    "    ]\n",
    "\n",
    "    # OPTIONAL: dictionary describing column names to rewrite,\n",
    "    # whether derived from metadata or not. By default,\n",
    "    # includes the above dictionary's aliases. Also,\n",
    "    # update the column names above\n",
    "    # Key:value pairs should be of form 'old name':'new name'\n",
    "    column_renaming_dict = \\\n",
    "        {key:val for key, val in metadata_tag_to_column_list}\n",
    "    column_renaming_dict.update({\n",
    "        'Mirror Position (um)': 'mirror_pos',\n",
    "               'Lock-In 1 (V)': 'lockin1',\n",
    "               'Lock-In 2 (V)': 'kerr_rotation',\n",
    "    })\n",
    "    if scan_coordinate_column in column_renaming_dict:\n",
    "        scan_coordinate_column = \\\n",
    "            column_renaming_dict[scan_coordinate_column]\n",
    "    if measured_value_column in column_renaming_dict:\n",
    "        measured_value_column = \\\n",
    "            column_renaming_dict[measured_value_column]\n",
    "\n",
    "    # OPTIONAL: dataframe processing functions,\n",
    "    # must accept dataframe and modify in-place\n",
    "    def set_dataframe_indices(df):\n",
    "        df['index_1d'] = df.index  # assumes index = 0,1,2,...  \n",
    "        df.set_index(['run_id', 'index_2d', 'index_1d'],\n",
    "                     drop=True, append=False, inplace=True)\n",
    "#     # not needed, handled by consolidate_aliases_for_bfield \n",
    "#     def rescale_magnetic_field(df):  # \n",
    "#         if 'Magnetic Field (T)' in list(df):\n",
    "#             df['Magnetic Field (mT)'] = 1000.0 * df['Magnetic Field (T)']\n",
    "#             del df['Magnetic Field (T)']\n",
    "    def edit_dataframe_colnames(df):  # should usually be last\n",
    "        filtered_renaming_dict = \\\n",
    "            {key: val for (key, val) in column_renaming_dict.items()\n",
    "             if key in list(df)}\n",
    "        df.rename(columns=filtered_renaming_dict, inplace=True)\n",
    "    dataframe_processing_fcns = [\n",
    "        set_dataframe_indices,\n",
    "        edit_dataframe_colnames,\n",
    "    ]\n",
    "\n",
    "    file_dataframes_list, file_metadata_list = \\\n",
    "        csv2df.process_directory_csvs_to_dataframes(\n",
    "            parent_dir, filename_key, run_criteria,\n",
    "            pandas_read_csv_kwargs,\n",
    "            parsing_keyword_lists,\n",
    "            metadata_processing_fcns,\n",
    "            metadata_filter_fcns,\n",
    "            metadata_tag_to_column_list,\n",
    "            dataframe_processing_fcns)\n",
    "\n",
    "    full_dataframe = pd.concat(file_dataframes_list)\n",
    "    full_dataframe.sort_index(ascending=True, inplace=True)\n",
    "\n",
    "    # Save processed dataframe & metadata to file\n",
    "    with open(output_dataframe_filename, 'w') as f:\n",
    "        full_dataframe.to_csv(f, sep='\\t')\n",
    "    with open(output_metadata_list_filename, 'w') as f:\n",
    "        json.dump(file_metadata_list, f)\n",
    "\n",
    "    # plot newly created dataframe and show the first few rows\n",
    "    figure_size = (FIG_SIZE_MULT * 3, FIG_SIZE_MULT * 1.5)\n",
    "    num_waterfall_plots = 4\n",
    "    data_column = measured_value_column\n",
    "    x_values_column = scan_coordinate_column\n",
    "    y_values_column = None\n",
    "    xlabel = scan_coordinate_label\n",
    "    ylabel = None\n",
    "    imshow_kwargs = {'aspect': 1.0,\n",
    "                     'origin': 'upper'}\n",
    "    plt.figure(figsize=figure_size)\n",
    "    ax1 = plt.subplot(1,2,1)\n",
    "    ax2 = plt.subplot(1,2,2)\n",
    "    dfplot.plot_dataframe_colorplot(full_dataframe, data_column,\n",
    "                                    x_values_column, y_values_column,\n",
    "                                    xlabel=xlabel, ylabel=ylabel,\n",
    "                                    ax=ax1, **imshow_kwargs)\n",
    "    dfplot.plot_dataframe_waterfall(full_dataframe, data_column,\n",
    "                                    num_waterfall_plots,\n",
    "                                    x_values_column, y_values_column,\n",
    "                                    xlabel=xlabel, ylabel=None, ax=ax2)\n",
    "    ax2.yaxis.set_ticklabels([])\n",
    "    plt.savefig(output_image_filename,\n",
    "                bbox_inches='tight',\n",
    "                transparent=False)\n",
    "    plt.show()\n",
    "    display(full_dataframe.head(5))"
   ]
  },
  {
   "cell_type": "code",
   "execution_count": 8,
   "metadata": {},
   "outputs": [
    {
     "name": "stdout",
     "output_type": "stream",
     "text": [
      "Set Temperature (K): 30.0\n",
      "File Last Modified: Sun Aug 20 00:27:14 2017\n",
      "Filepath: .\\170606STPR12 Mirror_Scan RMBE1130-K_30K_100ps_836nm_[1-10]Horiz_PumpSens10mV_Axis1.dat\n",
      "Sample Orientation: [1-10]Horiz\n",
      "Sample ID: RMBE1130-K\n",
      "Wavelength (nm): 836.0\n",
      "Scan_2D_Index: 11.0\n",
      "Date: 170606\n",
      "Delay Time (ps): 100.0\n",
      "Run ID: 0\n"
     ]
    },
    {
     "data": {
      "text/html": [
       "<div>\n",
       "<style>\n",
       "    .dataframe thead tr:only-child th {\n",
       "        text-align: right;\n",
       "    }\n",
       "\n",
       "    .dataframe thead th {\n",
       "        text-align: left;\n",
       "    }\n",
       "\n",
       "    .dataframe tbody tr th {\n",
       "        vertical-align: top;\n",
       "    }\n",
       "</style>\n",
       "<table border=\"1\" class=\"dataframe\">\n",
       "  <thead>\n",
       "    <tr style=\"text-align: right;\">\n",
       "      <th></th>\n",
       "      <th></th>\n",
       "      <th></th>\n",
       "      <th>mirror_pos</th>\n",
       "      <th>lockin1</th>\n",
       "      <th>kerr_rotation</th>\n",
       "      <th>file_index</th>\n",
       "      <th>probe_delay</th>\n",
       "      <th>wavelength</th>\n",
       "    </tr>\n",
       "    <tr>\n",
       "      <th>run_id</th>\n",
       "      <th>index_2d</th>\n",
       "      <th>index_1d</th>\n",
       "      <th></th>\n",
       "      <th></th>\n",
       "      <th></th>\n",
       "      <th></th>\n",
       "      <th></th>\n",
       "      <th></th>\n",
       "    </tr>\n",
       "  </thead>\n",
       "  <tbody>\n",
       "    <tr>\n",
       "      <th rowspan=\"5\" valign=\"top\">0</th>\n",
       "      <th rowspan=\"5\" valign=\"top\">11.0</th>\n",
       "      <th>0</th>\n",
       "      <td>-200.0</td>\n",
       "      <td>0.001661</td>\n",
       "      <td>0.00574</td>\n",
       "      <td>0</td>\n",
       "      <td>100.0</td>\n",
       "      <td>836.0</td>\n",
       "    </tr>\n",
       "    <tr>\n",
       "      <th>1</th>\n",
       "      <td>-195.0</td>\n",
       "      <td>0.001721</td>\n",
       "      <td>0.00530</td>\n",
       "      <td>0</td>\n",
       "      <td>100.0</td>\n",
       "      <td>836.0</td>\n",
       "    </tr>\n",
       "    <tr>\n",
       "      <th>2</th>\n",
       "      <td>-190.0</td>\n",
       "      <td>0.001697</td>\n",
       "      <td>0.00582</td>\n",
       "      <td>0</td>\n",
       "      <td>100.0</td>\n",
       "      <td>836.0</td>\n",
       "    </tr>\n",
       "    <tr>\n",
       "      <th>3</th>\n",
       "      <td>-185.0</td>\n",
       "      <td>0.001571</td>\n",
       "      <td>0.00600</td>\n",
       "      <td>0</td>\n",
       "      <td>100.0</td>\n",
       "      <td>836.0</td>\n",
       "    </tr>\n",
       "    <tr>\n",
       "      <th>4</th>\n",
       "      <td>-180.0</td>\n",
       "      <td>0.001674</td>\n",
       "      <td>0.00658</td>\n",
       "      <td>0</td>\n",
       "      <td>100.0</td>\n",
       "      <td>836.0</td>\n",
       "    </tr>\n",
       "  </tbody>\n",
       "</table>\n",
       "</div>"
      ],
      "text/plain": [
       "                          mirror_pos   lockin1  kerr_rotation  file_index  \\\n",
       "run_id index_2d index_1d                                                    \n",
       "0      11.0     0             -200.0  0.001661        0.00574           0   \n",
       "                1             -195.0  0.001721        0.00530           0   \n",
       "                2             -190.0  0.001697        0.00582           0   \n",
       "                3             -185.0  0.001571        0.00600           0   \n",
       "                4             -180.0  0.001674        0.00658           0   \n",
       "\n",
       "                          probe_delay  wavelength  \n",
       "run_id index_2d index_1d                           \n",
       "0      11.0     0               100.0       836.0  \n",
       "                1               100.0       836.0  \n",
       "                2               100.0       836.0  \n",
       "                3               100.0       836.0  \n",
       "                4               100.0       836.0  "
      ]
     },
     "execution_count": 8,
     "metadata": {},
     "output_type": "execute_result"
    }
   ],
   "source": [
    "# TAKE A LOOK AT ANY SUBFILE\n",
    "file_index = 0\n",
    "for key, val in file_metadata_list[file_index].items():\n",
    "    print(\"{}: {}\".format(key, val))\n",
    "file_dataframes_list[file_index].head()"
   ]
  },
  {
   "cell_type": "code",
   "execution_count": 9,
   "metadata": {
    "collapsed": true
   },
   "outputs": [],
   "source": [
    "# # EXAMPLE - REORDERING AXES\n",
    "# df = full_dataframe\n",
    "# df = df.groupby(level=[-3, -2]).head(5)\n",
    "# new_index = df.index.reorder_levels([-2, -3, -1])\n",
    "# df.index = new_index\n",
    "# df.head()"
   ]
  },
  {
   "cell_type": "markdown",
   "metadata": {},
   "source": [
    "## Dataset fit model and residuals"
   ]
  },
  {
   "cell_type": "code",
   "execution_count": 10,
   "metadata": {
    "collapsed": true
   },
   "outputs": [],
   "source": [
    "# GLOBAL CONSTANTS\n",
    "GFACTORCONSTANT = 1.3996e-5  # 1/(ps*mTesla), = bohr magneton/2*pi*hbar\n",
    "LASER_REPRATE = 13158  # ps period\n",
    "\n",
    "from eda.analysis.fit_tools import create_residuals_fcn\n",
    "\n",
    "def overlap_gaussian_fcn(mirror_pos, gaussian_amp, spot_width,\n",
    "                         pos_offset, slope, offset):\n",
    "    expo = (0.5 * np.power(mirror_pos - pos_offset, 2)\n",
    "            / np.power(spot_width / np.sqrt(2), 2))\n",
    "    output = gaussian_amp * np.exp( -1 * expo)\n",
    "    output += slope * mirror_pos + offset\n",
    "    return output\n",
    "\n",
    "overlap_gaussian_residuals = \\\n",
    "    create_residuals_fcn(overlap_gaussian_fcn, ['mirror_pos'])"
   ]
  },
  {
   "cell_type": "markdown",
   "metadata": {},
   "source": [
    "## Dataset fit parameter setup and constraints"
   ]
  },
  {
   "cell_type": "code",
   "execution_count": 11,
   "metadata": {},
   "outputs": [],
   "source": [
    "from lmfit import Parameters\n",
    "\n",
    "params_guesses = [('gaussian_amp',        {'value' : 0.4,\n",
    "                                           'min'   : 0.2,\n",
    "                                           'max'   : 0.5}),\n",
    "                  ('spot_width',          {'value' : 55.0,\n",
    "                                           'min'   : 20.0,\n",
    "                                           'max'   : 100.0,\n",
    "                                           'vary'  : True}),\n",
    "                  ('pos_offset',          {'value' : 0.0,\n",
    "                                           'min'   : -1e3,\n",
    "                                           'max'   : +1e3}),\n",
    "                  ('slope',               {'value' : 0.0,\n",
    "                                           'min'   : -1e2,\n",
    "                                           'max'   : +1e2}),\n",
    "                  ('offset',              {'value' : 0.0,\n",
    "                                           'min'   : -1e2,\n",
    "                                           'max'   : +1e2}),\n",
    "                 ]\n",
    "fit_params = Parameters()\n",
    "for param_name, param_guess_dict in params_guesses:\n",
    "    fit_params.add(param_name, **param_guess_dict)"
   ]
  },
  {
   "cell_type": "markdown",
   "metadata": {},
   "source": [
    "## Fit all datasets (1D)"
   ]
  },
  {
   "cell_type": "code",
   "execution_count": 12,
   "metadata": {},
   "outputs": [
    {
     "data": {
      "text/html": [
       "<div>\n",
       "<style>\n",
       "    .dataframe thead tr:only-child th {\n",
       "        text-align: right;\n",
       "    }\n",
       "\n",
       "    .dataframe thead th {\n",
       "        text-align: left;\n",
       "    }\n",
       "\n",
       "    .dataframe tbody tr th {\n",
       "        vertical-align: top;\n",
       "    }\n",
       "</style>\n",
       "<table border=\"1\" class=\"dataframe\">\n",
       "  <thead>\n",
       "    <tr style=\"text-align: right;\">\n",
       "      <th></th>\n",
       "      <th></th>\n",
       "      <th>file_index</th>\n",
       "      <th>probe_delay</th>\n",
       "      <th>wavelength</th>\n",
       "      <th>gaussian_amp</th>\n",
       "      <th>gaussian_amp_error</th>\n",
       "      <th>spot_width</th>\n",
       "      <th>spot_width_error</th>\n",
       "      <th>pos_offset</th>\n",
       "      <th>pos_offset_error</th>\n",
       "      <th>slope</th>\n",
       "      <th>slope_error</th>\n",
       "      <th>offset</th>\n",
       "      <th>offset_error</th>\n",
       "      <th>result_index</th>\n",
       "      <th>chisqr</th>\n",
       "      <th>redchi</th>\n",
       "    </tr>\n",
       "    <tr>\n",
       "      <th>run_id</th>\n",
       "      <th>index_2d</th>\n",
       "      <th></th>\n",
       "      <th></th>\n",
       "      <th></th>\n",
       "      <th></th>\n",
       "      <th></th>\n",
       "      <th></th>\n",
       "      <th></th>\n",
       "      <th></th>\n",
       "      <th></th>\n",
       "      <th></th>\n",
       "      <th></th>\n",
       "      <th></th>\n",
       "      <th></th>\n",
       "      <th></th>\n",
       "      <th></th>\n",
       "      <th></th>\n",
       "    </tr>\n",
       "  </thead>\n",
       "  <tbody>\n",
       "    <tr>\n",
       "      <th rowspan=\"2\" valign=\"top\">0.0</th>\n",
       "      <th>11.0</th>\n",
       "      <td>0.0</td>\n",
       "      <td>100.0</td>\n",
       "      <td>836.0</td>\n",
       "      <td>0.377870</td>\n",
       "      <td>0.001448</td>\n",
       "      <td>46.130822</td>\n",
       "      <td>0.219265</td>\n",
       "      <td>0.110642</td>\n",
       "      <td>0.141884</td>\n",
       "      <td>0.000007</td>\n",
       "      <td>0.000003</td>\n",
       "      <td>0.006582</td>\n",
       "      <td>0.000568</td>\n",
       "      <td>0</td>\n",
       "      <td>0.001134</td>\n",
       "      <td>0.000015</td>\n",
       "    </tr>\n",
       "    <tr>\n",
       "      <th>12.0</th>\n",
       "      <td>1.0</td>\n",
       "      <td>100.0</td>\n",
       "      <td>836.0</td>\n",
       "      <td>0.386801</td>\n",
       "      <td>0.004954</td>\n",
       "      <td>57.203278</td>\n",
       "      <td>0.935810</td>\n",
       "      <td>2.375311</td>\n",
       "      <td>0.589276</td>\n",
       "      <td>-0.000030</td>\n",
       "      <td>0.000014</td>\n",
       "      <td>0.011271</td>\n",
       "      <td>0.002342</td>\n",
       "      <td>1</td>\n",
       "      <td>0.015834</td>\n",
       "      <td>0.000208</td>\n",
       "    </tr>\n",
       "  </tbody>\n",
       "</table>\n",
       "</div>"
      ],
      "text/plain": [
       "                 file_index  probe_delay  wavelength  gaussian_amp  \\\n",
       "run_id index_2d                                                      \n",
       "0.0    11.0             0.0        100.0       836.0      0.377870   \n",
       "       12.0             1.0        100.0       836.0      0.386801   \n",
       "\n",
       "                 gaussian_amp_error  spot_width  spot_width_error  pos_offset  \\\n",
       "run_id index_2d                                                                 \n",
       "0.0    11.0                0.001448   46.130822          0.219265    0.110642   \n",
       "       12.0                0.004954   57.203278          0.935810    2.375311   \n",
       "\n",
       "                 pos_offset_error     slope  slope_error    offset  \\\n",
       "run_id index_2d                                                      \n",
       "0.0    11.0              0.141884  0.000007     0.000003  0.006582   \n",
       "       12.0              0.589276 -0.000030     0.000014  0.011271   \n",
       "\n",
       "                 offset_error  result_index    chisqr    redchi  \n",
       "run_id index_2d                                                  \n",
       "0.0    11.0          0.000568             0  0.001134  0.000015  \n",
       "       12.0          0.002342             1  0.015834  0.000208  "
      ]
     },
     "metadata": {},
     "output_type": "display_data"
    },
    {
     "data": {
      "image/png": "[encoded data removed]",
      "text/plain": [
       "<matplotlib.figure.Figure at 0x17face4dac8>"
      ]
     },
     "metadata": {},
     "output_type": "display_data"
    },
    {
     "data": {
      "image/png": "[encoded data removed]",
      "text/plain": [
       "<matplotlib.figure.Figure at 0x17face9a470>"
      ]
     },
     "metadata": {},
     "output_type": "display_data"
    },
    {
     "data": {
      "image/png": "[encoded data removed]",
      "text/plain": [
       "<matplotlib.figure.Figure at 0x17fad8c8a58>"
      ]
     },
     "metadata": {},
     "output_type": "display_data"
    }
   ],
   "source": [
    "from eda.analysis.dataframe_processing \\\n",
    "    import df_minimize_fcn_on_datasets\n",
    "\n",
    "df = full_dataframe\n",
    "residuals_fcn = overlap_gaussian_residuals\n",
    "fit_params = fit_params\n",
    "independent_vars_columns = [\"mirror_pos\"]\n",
    "measured_data_column = measured_value_column\n",
    "column_aggregation_dict = {}  # needed to keep cols w/ non-const values\n",
    "keep_const_columns = True\n",
    "\n",
    "output_fit_results_dataframe_filename = \"fit_results_dataframe.csv\"\n",
    "output_fit_minimize_results_filename = \"fit_minimize_results.pickle\"\n",
    "output_fit_vs_data_image_filename = \"fit_results_fit_vs_data.png\"\n",
    "output_fit_params_image_filename = \"fit_results_fit_params.png\"\n",
    "output_fit_covariances_image_filename = \"fit_results_covariances.png\"\n",
    "\n",
    "# Fit!\n",
    "minimize_results, results_df = \\\n",
    "    df_minimize_fcn_on_datasets(\n",
    "        df, residuals_fcn, fit_params,\n",
    "        independent_vars_columns,\n",
    "        measured_data_column,\n",
    "        column_aggregation_dict=column_aggregation_dict,  # keywords only!\n",
    "#        method='nelder',\n",
    "        keep_const_columns=keep_const_columns,\n",
    "    )\n",
    "\n",
    "# add minimizer result attributes to results_df\n",
    "attributes_to_add = ['chisqr', 'redchi']\n",
    "for attribute in attributes_to_add:\n",
    "    attribute_list = []\n",
    "    for result in minimize_results:\n",
    "        attribute_list.append(getattr(result, attribute))\n",
    "    results_df[attribute] = attribute_list\n",
    "\n",
    "# Display fit params dataframe & save to file\n",
    "with open(output_fit_results_dataframe_filename, 'w') as f:\n",
    "    results_df.to_csv(f, sep='\\t')\n",
    "with open(output_fit_minimize_results_filename, 'wb') as f:\n",
    "    pickle.dump(minimize_results, f)\n",
    "display(results_df.head(5))\n",
    "\n",
    "# plot fits\n",
    "ncols = 4\n",
    "nplots = len(minimize_results)\n",
    "nrows = np.int(np.ceil(nplots / ncols))\n",
    "plt.figure(figsize=(FIG_SIZE_MULT * 3, FIG_SIZE_MULT * nrows))\n",
    "for result_index in list(range(nplots)):\n",
    "    ax = plt.subplot(nrows, ncols, result_index + 1)\n",
    "    result = minimize_results[result_index]\n",
    "    dataset_index = results_df.index[result_index]\n",
    "    xvals = df.loc[dataset_index][scan_coordinate_column]\n",
    "    yvals = df.loc[dataset_index][measured_data_column]\n",
    "    indep_vars_vecs = [df.loc[dataset_index][colname]\n",
    "                       for colname in independent_vars_columns]\n",
    "    fit_yvals = residuals_fcn(result.params, *indep_vars_vecs)\n",
    "    ax.plot(xvals, yvals, 'bd', label='dataset {}'.format(result_index))\n",
    "    ax.plot(xvals, fit_yvals, 'r')\n",
    "    plt.tight_layout()\n",
    "plt.savefig(output_fit_vs_data_image_filename,\n",
    "            bbox_inches='tight',\n",
    "            transparent=False)\n",
    "\n",
    "# plot params\n",
    "params_to_plot_list = result.var_names + attributes_to_add\n",
    "ncols = 3\n",
    "nplots = len(params_to_plot_list)\n",
    "nrows = np.int(np.ceil(nplots / ncols))\n",
    "plt.figure(figsize=(FIG_SIZE_MULT * 3, FIG_SIZE_MULT * nrows))\n",
    "for ind, param in enumerate(params_to_plot_list):\n",
    "    ax = plt.subplot(nrows, ncols, ind + 1)\n",
    "    if (param + '_error') in list(results_df):\n",
    "        ax.errorbar(x=results_df.index.get_level_values(-1),\n",
    "                    y=results_df[param],\n",
    "                    yerr=results_df[param + '_error'])\n",
    "    else:\n",
    "        ax.plot(results_df.index.get_level_values(-1),\n",
    "                results_df[param].values)\n",
    "    plt.xlabel(results_df.index.names[-1])\n",
    "    plt.tight_layout()\n",
    "    plt.title(param)\n",
    "plt.savefig(output_fit_params_image_filename,\n",
    "            bbox_inches='tight',\n",
    "            transparent=False)\n",
    "\n",
    "# Plot the avg. covariance matrix\n",
    "corr_mats = []\n",
    "for result in minimize_results:\n",
    "    covar = result.covar\n",
    "    oostd = np.diagflat([1.0 / param.stderr\n",
    "                         for param in list(result.params.values())\n",
    "                         if param.name in result.var_names])\n",
    "    corr = np.dot(np.dot(oostd, result.covar), oostd)\n",
    "    mask = np.zeros_like(corr, dtype=np.bool)\n",
    "    mask[np.triu_indices_from(mask)] = True\n",
    "    corr[mask] = np.nan\n",
    "    corr_mats.append(corr)\n",
    "avgcorr = np.mean(corr_mats, axis=0)\n",
    "plt.figure()\n",
    "plt.imshow(corr, vmin=-1, vmax=1)\n",
    "plt.colorbar()\n",
    "plt.xticks(np.arange(result.nvarys), result.var_names,\n",
    "           rotation=-35, ha='left')\n",
    "plt.yticks(np.arange(result.nvarys), result.var_names)\n",
    "plt.title('Avg. correlation matrix, off-diagonal')\n",
    "plt.savefig(output_fit_covariances_image_filename,\n",
    "            bbox_inches='tight',\n",
    "            transparent=False)\n",
    "plt.show()\n"
   ]
  },
  {
   "cell_type": "code",
   "execution_count": 13,
   "metadata": {},
   "outputs": [
    {
     "name": "stdout",
     "output_type": "stream",
     "text": [
      "----------------------------------------\n"
     ]
    },
    {
     "data": {
      "image/png": "[encoded data removed]",
      "text/plain": [
       "<matplotlib.figure.Figure at 0x17fad089358>"
      ]
     },
     "metadata": {},
     "output_type": "display_data"
    },
    {
     "name": "stdout",
     "output_type": "stream",
     "text": [
      "FIT #1\n",
      "run_id: 0.0\n",
      "index_2d: 11.0\n",
      "[[Fit Statistics]]\n",
      "    # function evals   = 27\n",
      "    # data points      = 81\n",
      "    # variables        = 5\n",
      "    chi-square         = 0.001\n",
      "    reduced chi-square = 0.000\n",
      "    Akaike info crit   = -895.276\n",
      "    Bayesian info crit = -883.304\n",
      "[[Variables]]\n",
      "    gaussian_amp:   0.37786953 +/- 0.001448 (0.38%) (init= 0.4)\n",
      "    spot_width:     46.1308221 +/- 0.219264 (0.48%) (init= 55)\n",
      "    pos_offset:     0.11064199 +/- 0.141884 (128.24%) (init= 0)\n",
      "    slope:          7.0003e-06 +/- 3.45e-06 (49.22%) (init= 0)\n",
      "    offset:         0.00658244 +/- 0.000568 (8.62%) (init= 0)\n",
      "[[Correlations]] (unreported correlations are <  0.100)\n",
      "    C(spot_width, offset)        = -0.447 \n",
      "    C(gaussian_amp, spot_width)  = -0.372 \n",
      "    C(gaussian_amp, offset)      = -0.277 \n",
      "    C(pos_offset, slope)         = -0.211 \n"
     ]
    },
    {
     "data": {
      "text/plain": [
       "None"
      ]
     },
     "metadata": {},
     "output_type": "display_data"
    },
    {
     "name": "stdout",
     "output_type": "stream",
     "text": [
      "----------------------------------------\n"
     ]
    },
    {
     "data": {
      "image/png": "[encoded data removed]",
      "text/plain": [
       "<matplotlib.figure.Figure at 0x17fad15fa90>"
      ]
     },
     "metadata": {},
     "output_type": "display_data"
    },
    {
     "name": "stdout",
     "output_type": "stream",
     "text": [
      "FIT #2\n",
      "run_id: 0.0\n",
      "index_2d: 12.0\n",
      "[[Fit Statistics]]\n",
      "    # function evals   = 33\n",
      "    # data points      = 81\n",
      "    # variables        = 5\n",
      "    chi-square         = 0.016\n",
      "    reduced chi-square = 0.000\n",
      "    Akaike info crit   = -681.743\n",
      "    Bayesian info crit = -669.771\n",
      "[[Variables]]\n",
      "    gaussian_amp:   0.38680078 +/- 0.004953 (1.28%) (init= 0.4)\n",
      "    spot_width:     57.2032779 +/- 0.935810 (1.64%) (init= 55)\n",
      "    pos_offset:     2.37531072 +/- 0.589276 (24.81%) (init= 0)\n",
      "    slope:         -3.0024e-05 +/- 1.41e-05 (46.99%) (init= 0)\n",
      "    offset:         0.01127117 +/- 0.002342 (20.78%) (init= 0)\n",
      "[[Correlations]] (unreported correlations are <  0.100)\n",
      "    C(spot_width, offset)        = -0.524 \n",
      "    C(gaussian_amp, offset)      = -0.334 \n",
      "    C(pos_offset, slope)         = -0.291 \n",
      "    C(gaussian_amp, spot_width)  = -0.288 \n"
     ]
    },
    {
     "data": {
      "text/plain": [
       "None"
      ]
     },
     "metadata": {},
     "output_type": "display_data"
    },
    {
     "data": {
      "image/png": "[encoded data removed]",
      "text/plain": [
       "<matplotlib.figure.Figure at 0x17fad089358>"
      ]
     },
     "metadata": {},
     "output_type": "display_data"
    },
    {
     "data": {
      "image/png": "[encoded data removed]",
      "text/plain": [
       "<matplotlib.figure.Figure at 0x17fad15fa90>"
      ]
     },
     "metadata": {},
     "output_type": "display_data"
    }
   ],
   "source": [
    "# DETAILED FIT REPORTS\n",
    "for result_index, result in enumerate(minimize_results):\n",
    "    print('----------------------------------------')\n",
    "    fig, (ax1, ax2) = plt.subplots(ncols=2, sharey=False,\n",
    "                                   figsize=(FIG_SIZE_MULT * 3,\n",
    "                                            FIG_SIZE_MULT * 1))\n",
    "    dataset_index = results_df.index[result_index]\n",
    "    xvals = df.loc[dataset_index][scan_coordinate_column]\n",
    "    yvals = df.loc[dataset_index][measured_data_column]\n",
    "    indep_vars_vecs = [df.loc[dataset_index][colname]\n",
    "                       for colname in independent_vars_columns]\n",
    "    fit_yvals = residuals_fcn(result.params, *indep_vars_vecs)\n",
    "    ax1.plot(xvals, yvals, 'bd', label='dataset {}'.format(result_index))\n",
    "    ax1.plot(xvals, fit_yvals, 'r')\n",
    "    ax1.set_title('Data vs. Fit')\n",
    "    img = ax2.imshow(corr, vmin=-1, vmax=1)\n",
    "    fig.colorbar(img, ax=ax2)\n",
    "    ax2.set_title('Correlations')\n",
    "    display(fig)\n",
    "    print('FIT #{}'.format(result_index + 1))\n",
    "    for col, val in zip(results_df.index.names,\n",
    "                        results_df.index[result_index]):\n",
    "        print('{}: {}'.format(col, val))\n",
    "    display(report_fit(result))"
   ]
  },
  {
   "cell_type": "code",
   "execution_count": null,
   "metadata": {
    "collapsed": true
   },
   "outputs": [],
   "source": []
  },
  {
   "cell_type": "code",
   "execution_count": null,
   "metadata": {
    "collapsed": true
   },
   "outputs": [],
   "source": []
  },
  {
   "cell_type": "code",
   "execution_count": null,
   "metadata": {
    "collapsed": true
   },
   "outputs": [],
   "source": []
  },
  {
   "cell_type": "code",
   "execution_count": null,
   "metadata": {
    "collapsed": true
   },
   "outputs": [],
   "source": []
  },
  {
   "cell_type": "code",
   "execution_count": null,
   "metadata": {
    "collapsed": true
   },
   "outputs": [],
   "source": []
  }
 ],
 "metadata": {
  "kernelspec": {
   "display_name": "Python 3",
   "language": "python",
   "name": "python3"
  },
  "language_info": {
   "codemirror_mode": {
    "name": "ipython",
    "version": 3
   },
   "file_extension": ".py",
   "mimetype": "text/x-python",
   "name": "python",
   "nbconvert_exporter": "python",
   "pygments_lexer": "ipython3",
   "version": "3.5.4"
  },
  "toc": {
   "colors": {
    "hover_highlight": "#DAA520",
    "running_highlight": "#FF0000",
    "selected_highlight": "#FFD700"
   },
   "moveMenuLeft": true,
   "nav_menu": {
    "height": "283px",
    "width": "252px"
   },
   "navigate_menu": true,
   "number_sections": true,
   "sideBar": true,
   "threshold": 4,
   "toc_cell": false,
   "toc_section_display": "block",
   "toc_window_display": false,
   "widenNotebook": false
  }
 },
 "nbformat": 4,
 "nbformat_minor": 2
}
